{
 "cells": [
  {
   "cell_type": "code",
   "execution_count": 1,
   "id": "a8034758",
   "metadata": {},
   "outputs": [
    {
     "ename": "SyntaxError",
     "evalue": "invalid syntax (<ipython-input-1-c3e44c6b2b43>, line 3)",
     "output_type": "error",
     "traceback": [
      "\u001b[1;36m  File \u001b[1;32m\"<ipython-input-1-c3e44c6b2b43>\"\u001b[1;36m, line \u001b[1;32m3\u001b[0m\n\u001b[1;33m    * =expression\u001b[0m\n\u001b[1;37m      ^\u001b[0m\n\u001b[1;31mSyntaxError\u001b[0m\u001b[1;31m:\u001b[0m invalid syntax\n"
     ]
    }
   ],
   "source": [
    "##1. In the below elements which of them are values or an expression? eg:- values can beinteger or string and expressions will be mathematical operators.\n",
    "\n",
    "* =expression\n",
    "'hello'=values\n",
    "-87.8 =values\n",
    "- =expression\n",
    "/ =expression\n",
    "+ =expression\n",
    "6 =values"
   ]
  },
  {
   "cell_type": "markdown",
   "id": "0141133a",
   "metadata": {},
   "source": [
    "Q2.What is the difference between string and variable?\n",
    "\n",
    "string =In strings values are assigned with in the quotes.\n",
    "variable =variable is assigned as a name or even alphabets which can store everything from strings to numbers."
   ]
  },
  {
   "cell_type": "markdown",
   "id": "180cf138",
   "metadata": {},
   "source": [
    "Q3. Describe three different data types.\n",
    "\n",
    "List[] =list is the collection of heterogeneous type of data in a variable.\n",
    "       list is mutable(changeable) object.(item assignment are allowed).\n",
    "       it allows for duplicates. \n",
    "       \n",
    "string =it is assigned by single,double,triple quotes.\n",
    "         it is immutable(unchangeable) object.(item assignment are not allowed).\n",
    "         \n",
    "Tuple() =it is used to store multiple items of different data types in a single variable.\n",
    "         immutable in nature.\n",
    "         tuples allow duplicate members and are indexed.\n"
   ]
  },
  {
   "cell_type": "markdown",
   "id": "c2d9b822",
   "metadata": {},
   "source": [
    "Q4. What is an expression made up of? What do all expressions do?\n",
    "\n",
    "An expression is a combination of values, variables, operators, and calls to functions.Expressions need to be evaluated. If you ask Python to print an expression, the interpreter evaluates the expression and displays the result."
   ]
  },
  {
   "cell_type": "markdown",
   "id": "f460a98b",
   "metadata": {},
   "source": [
    "Q5. This assignment statements, like spam = 10. What is the difference between an\n",
    "expression and a statement?\n",
    "\n",
    "An expression evaluates to a single value. A statement does not."
   ]
  },
  {
   "cell_type": "markdown",
   "id": "c546d12e",
   "metadata": {},
   "source": [
    "Q6. After running the following code, what does the variable bacon contain?\n",
    "bacon = 22\n",
    "bacon + 1\n",
    "\n",
    "Ans=The bacon variable is set to 22. The bacon + 1 expression does not reassign the value in bacon (that would need an assignment statement: bacon = bacon + 1)\n",
    "\n"
   ]
  },
  {
   "cell_type": "markdown",
   "id": "5f2796fc",
   "metadata": {},
   "source": [
    "Q7. What should the values of the following two terms be?\n",
    "'spam' + 'spamspam'\n",
    " spam* 3\n",
    " \n",
    " Ans=Both expressions evaluate to the string 'spamspamspam'\n",
    " "
   ]
  },
  {
   "cell_type": "markdown",
   "id": "69f65c29",
   "metadata": {},
   "source": [
    "Q8. Why is eggs a valid variable name while 100 is invalid?\n",
    "\n",
    "Variable names cannot begin with a number.bcz variable name  must be an alphabets or combination of alphabts and integer.    "
   ]
  },
  {
   "cell_type": "markdown",
   "id": "44985389",
   "metadata": {},
   "source": [
    "Q9. What three functions can be used to get the integer, floating-point number, or string\n",
    "version of a value?\n",
    "\n",
    "The int(), float(), and str() functions will evaluate to the integer, floating-point number, and string versions of the value passed to them."
   ]
  },
  {
   "cell_type": "markdown",
   "id": "48cf6707",
   "metadata": {},
   "source": [
    "Q10. Why does this expression cause an error? How can you fix it?\n",
    "'I have eaten' + 99 +' burritos.'\n",
    "\n",
    "The expression causes an error because 99 is an integer, and only strings can be concatenated to other strings with the + operator. The correct way is 'I have eaten ' + str(99) + ' burritos.'"
   ]
  }
 ],
 "metadata": {
  "kernelspec": {
   "display_name": "Python 3",
   "language": "python",
   "name": "python3"
  },
  "language_info": {
   "codemirror_mode": {
    "name": "ipython",
    "version": 3
   },
   "file_extension": ".py",
   "mimetype": "text/x-python",
   "name": "python",
   "nbconvert_exporter": "python",
   "pygments_lexer": "ipython3",
   "version": "3.8.8"
  }
 },
 "nbformat": 4,
 "nbformat_minor": 5
}
