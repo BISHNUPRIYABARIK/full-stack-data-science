{
 "cells": [
  {
   "cell_type": "raw",
   "id": "63c1d2ec",
   "metadata": {},
   "source": [
    "1. In the below elements which of them are values or an expression? eg:- values can beinteger or string and expressions will be mathematical operators.\n",
    "\n",
    "* =expression\n",
    "'hello'=values\n",
    "-87.8 =values\n",
    "- =expression\n",
    "/ =expression\n",
    "+ =expression\n",
    "6 =values"
   ]
  },
  {
   "cell_type": "raw",
   "id": "aee1cbd9",
   "metadata": {},
   "source": [
    "2. What is the difference between string and variable?\n",
    "\n",
    "string =In strings values are assigned with in the quotes.\n",
    "variable =variable is assigned as a name or even alphabets which can store everything from strings to numbers."
   ]
  },
  {
   "cell_type": "raw",
   "id": "2c824284",
   "metadata": {},
   "source": [
    "3. Describe three different data types.\n",
    "\n",
    "List[] =list is the collection of heterogeneous type of data in a variable.\n",
    "       list is mutable(changeable) object.(item assignment are allowed).\n",
    "       it allows for duplicates. \n",
    "       \n",
    "string =it is assigned by single,double,triple quotes.\n",
    "         it is immutable(unchangeable) object.(item assignment are not allowed).\n",
    "         \n",
    "Tuple() =it is used to store multiple items of different data types in a single variable.\n",
    "         immutable in nature.\n",
    "         tuples allow duplicate members and are indexed.\n"
   ]
  },
  {
   "cell_type": "raw",
   "id": "49b4e91f",
   "metadata": {},
   "source": [
    "4. What is an expression made up of? What do all expressions do?\n",
    "\n",
    "An expression is a combination of values, variables, operators, and calls to functions.Expressions need to be evaluated. If you ask Python to print an expression, the interpreter evaluates the expression and displays the result."
   ]
  },
  {
   "cell_type": "raw",
   "id": "154059a8",
   "metadata": {},
   "source": [
    "5. This assignment statements, like spam = 10. What is the difference between an\n",
    "expression and a statement?\n",
    "\n",
    "An expression evaluates to a single value. A statement does not."
   ]
  },
  {
   "cell_type": "raw",
   "id": "95b5b4db",
   "metadata": {},
   "source": [
    "6. After running the following code, what does the variable bacon contain?\n",
    "bacon = 22\n",
    "bacon + 1\n",
    "\n",
    "Ans=The bacon variable is set to 22. The bacon + 1 expression does not reassign the value in bacon (that would need an assignment statement: bacon = bacon + 1)\n",
    "\n"
   ]
  },
  {
   "cell_type": "raw",
   "id": "5d7d39a8",
   "metadata": {},
   "source": [
    "7. What should the values of the following two terms be?\n",
    "'spam' + 'spamspam'\n",
    " spam* 3\n",
    " \n",
    " Ans=Both expressions evaluate to the string 'spamspamspam'\n",
    " "
   ]
  },
  {
   "cell_type": "raw",
   "id": "5e254495",
   "metadata": {},
   "source": [
    "8. Why is eggs a valid variable name while 100 is invalid?\n",
    "\n",
    "Variable names cannot begin with a number.bcz variable name  must be an alphabets or combination of alphabts and integer.    "
   ]
  },
  {
   "cell_type": "raw",
   "id": "6610aa7b",
   "metadata": {},
   "source": [
    "9. What three functions can be used to get the integer, floating-point number, or string\n",
    "version of a value?\n",
    "\n",
    "The int(), float(), and str() functions will evaluate to the integer, floating-point number, and string versions of the value passed to them."
   ]
  },
  {
   "cell_type": "raw",
   "id": "a69ce777",
   "metadata": {},
   "source": [
    "10. Why does this expression cause an error? How can you fix it?\n",
    "'I have eaten' + 99 +' burritos.'\n",
    "\n",
    "The expression causes an error because 99 is an integer, and only strings can be concatenated to other strings with the + operator. The correct way is 'I have eaten ' + str(99) + ' burritos.'"
   ]
  },
  {
   "cell_type": "code",
   "execution_count": null,
   "id": "a8bdccf1",
   "metadata": {},
   "outputs": [],
   "source": []
  }
 ],
 "metadata": {
  "kernelspec": {
   "display_name": "Python 3",
   "language": "python",
   "name": "python3"
  },
  "language_info": {
   "codemirror_mode": {
    "name": "ipython",
    "version": 3
   },
   "file_extension": ".py",
   "mimetype": "text/x-python",
   "name": "python",
   "nbconvert_exporter": "python",
   "pygments_lexer": "ipython3",
   "version": "3.8.8"
  }
 },
 "nbformat": 4,
 "nbformat_minor": 5
}
