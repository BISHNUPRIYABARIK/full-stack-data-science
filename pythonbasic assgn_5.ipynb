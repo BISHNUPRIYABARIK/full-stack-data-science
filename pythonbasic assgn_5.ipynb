{
 "cells": [
  {
   "cell_type": "markdown",
   "id": "cfad8c7c",
   "metadata": {},
   "source": [
    "Q1. What does an empty dictionary's code look like?\n",
    "ans:{}"
   ]
  },
  {
   "cell_type": "markdown",
   "id": "5378202e",
   "metadata": {},
   "source": [
    "Q2. What is the value of a dictionary value with the key 'foo' and the value 42?\n",
    "ans:{'foo':42}"
   ]
  },
  {
   "cell_type": "markdown",
   "id": "956c4d23",
   "metadata": {},
   "source": [
    "Q3. What is the most significant distinction between a dictionary and a list?\n",
    "ans:The items stored in a dictionary are unordered, while the items in a list are ordered."
   ]
  },
  {
   "cell_type": "markdown",
   "id": "94f55d4d",
   "metadata": {},
   "source": [
    "Q4.What happens if you try to access spam['foo'] if spam is {'bar': 100}?\n",
    "ans: get a KeyError error"
   ]
  },
  {
   "cell_type": "markdown",
   "id": "eaa73cdf",
   "metadata": {},
   "source": [
    "Q5.If a dictionary is stored in spam, what is the difference between the expressions 'cat' in spam and 'cat' in spam.keys()?\n",
    "ans:There is no difference"
   ]
  },
  {
   "cell_type": "markdown",
   "id": "0ce05bd1",
   "metadata": {},
   "source": [
    "Q6.If a dictionary is stored in spam, what is the difference between the expressions 'cat' in spam and 'cat' in spam.values()?\n",
    "ans:cat' in spam checks whether there is a 'cat' key in the dictionary, while 'cat' in spam.values() checks whether there is a value 'cat' for one of the keys in spam."
   ]
  },
  {
   "cell_type": "markdown",
   "id": "d7c8d65a",
   "metadata": {},
   "source": [
    "Q7.What is a shortcut for the following code?\n",
    "\n",
    "if 'color' not in spam:\n",
    "spam['color'] = 'black'\n",
    "\n",
    "ans:spam.setdefault('color', 'black')"
   ]
  },
  {
   "cell_type": "markdown",
   "id": "bcfcb65d",
   "metadata": {},
   "source": [
    "Q8.What module and function can be used to \"pretty print\" dictionary values?\n",
    "ans:pprint.pprint()"
   ]
  },
  {
   "cell_type": "code",
   "execution_count": null,
   "id": "6ddfa710",
   "metadata": {},
   "outputs": [],
   "source": []
  }
 ],
 "metadata": {
  "kernelspec": {
   "display_name": "Python 3",
   "language": "python",
   "name": "python3"
  },
  "language_info": {
   "codemirror_mode": {
    "name": "ipython",
    "version": 3
   },
   "file_extension": ".py",
   "mimetype": "text/x-python",
   "name": "python",
   "nbconvert_exporter": "python",
   "pygments_lexer": "ipython3",
   "version": "3.8.8"
  }
 },
 "nbformat": 4,
 "nbformat_minor": 5
}
