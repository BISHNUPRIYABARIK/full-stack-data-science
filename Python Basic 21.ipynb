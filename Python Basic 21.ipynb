{
 "cells": [
  {
   "cell_type": "markdown",
   "metadata": {
    "id": "6Nw9DRc2Hern"
   },
   "source": [
    "#Python Basic 21"
   ]
  },
  {
   "cell_type": "markdown",
   "metadata": {
    "id": "X7D5mbcXHi5l"
   },
   "source": [
    ">  Q. Add the current date to the text file today.txt as a string."
   ]
  },
  {
   "cell_type": "code",
   "execution_count": 2,
   "metadata": {
    "colab": {
     "base_uri": "https://localhost:8080/",
     "height": 35
    },
    "executionInfo": {
     "elapsed": 399,
     "status": "ok",
     "timestamp": 1627041464886,
     "user": {
      "displayName": "Yuno Clover",
      "photoUrl": "",
      "userId": "14793961318254159012"
     },
     "user_tz": -330
    },
    "id": "U166OAE1HbK8",
    "outputId": "13412dea-c990-4619-934e-624109f9f81a"
   },
   "outputs": [
    {
     "data": {
      "text/plain": [
       "'2022-01-07'"
      ]
     },
     "execution_count": 2,
     "metadata": {},
     "output_type": "execute_result"
    }
   ],
   "source": [
    "import datetime\n",
    "from datetime import date\n",
    "now = date.today()\n",
    "cur_date = now.isoformat()\n",
    "cur_date"
   ]
  },
  {
   "cell_type": "code",
   "execution_count": 3,
   "metadata": {
    "executionInfo": {
     "elapsed": 400,
     "status": "ok",
     "timestamp": 1627041468934,
     "user": {
      "displayName": "Yuno Clover",
      "photoUrl": "",
      "userId": "14793961318254159012"
     },
     "user_tz": -330
    },
    "id": "rnhAo-QIHouq"
   },
   "outputs": [],
   "source": [
    "with open('today.txt','w') as file:\n",
    "    file.write(cur_date)"
   ]
  },
  {
   "cell_type": "markdown",
   "metadata": {
    "id": "uj1iKwb0Ic_2"
   },
   "source": [
    "> Q. Read the text file today.txt into the string today_string"
   ]
  },
  {
   "cell_type": "code",
   "execution_count": 4,
   "metadata": {
    "colab": {
     "base_uri": "https://localhost:8080/",
     "height": 35
    },
    "executionInfo": {
     "elapsed": 13,
     "status": "ok",
     "timestamp": 1627041470753,
     "user": {
      "displayName": "Yuno Clover",
      "photoUrl": "",
      "userId": "14793961318254159012"
     },
     "user_tz": -330
    },
    "id": "qXCd1k-gIYiF",
    "outputId": "37ff38dd-29b4-4ecf-94f6-83476eb2c182"
   },
   "outputs": [
    {
     "data": {
      "text/plain": [
       "'2022-01-07'"
      ]
     },
     "execution_count": 4,
     "metadata": {},
     "output_type": "execute_result"
    }
   ],
   "source": [
    "with open('today.txt','r') as file:\n",
    "    today_string = file.read()\n",
    "today_string"
   ]
  },
  {
   "cell_type": "markdown",
   "metadata": {
    "id": "LrIDHGFBIig7"
   },
   "source": [
    "> Q. Parse the date from today_string."
   ]
  },
  {
   "cell_type": "code",
   "execution_count": 5,
   "metadata": {
    "colab": {
     "base_uri": "https://localhost:8080/"
    },
    "executionInfo": {
     "elapsed": 392,
     "status": "ok",
     "timestamp": 1627041473603,
     "user": {
      "displayName": "Yuno Clover",
      "photoUrl": "",
      "userId": "14793961318254159012"
     },
     "user_tz": -330
    },
    "id": "MuwBYzZFIfw7",
    "outputId": "063aa12f-3062-4447-d4c9-82df2d4f6d60"
   },
   "outputs": [
    {
     "data": {
      "text/plain": [
       "datetime.datetime(2022, 1, 7, 0, 0)"
      ]
     },
     "execution_count": 5,
     "metadata": {},
     "output_type": "execute_result"
    }
   ],
   "source": [
    "from datetime import datetime\n",
    "format = '%Y-%m-%d'\n",
    "datetime.strptime(today_string,format)"
   ]
  },
  {
   "cell_type": "markdown",
   "metadata": {
    "id": "WxS5ql4HIns3"
   },
   "source": [
    "> Q. List the files in your current directory"
   ]
  },
  {
   "cell_type": "code",
   "execution_count": 6,
   "metadata": {
    "colab": {
     "base_uri": "https://localhost:8080/"
    },
    "executionInfo": {
     "elapsed": 412,
     "status": "ok",
     "timestamp": 1627041476634,
     "user": {
      "displayName": "Yuno Clover",
      "photoUrl": "",
      "userId": "14793961318254159012"
     },
     "user_tz": -330
    },
    "id": "CT1raJTeIk7J",
    "outputId": "4a592015-8e8e-4e72-f247-d5211b0a18ed"
   },
   "outputs": [
    {
     "data": {
      "text/plain": [
       "['.astropy',\n",
       " '.conda',\n",
       " '.condarc',\n",
       " '.config',\n",
       " '.continuum',\n",
       " '.idlerc',\n",
       " '.ipynb_checkpoints',\n",
       " '.ipython',\n",
       " '.jupyter',\n",
       " '.matplotlib',\n",
       " '.spss',\n",
       " '31st october ineuron.ipynb',\n",
       " '3D Objects',\n",
       " '7th march live class notebook for loop while and range function  (1).ipynb',\n",
       " 'AirPassenger.ipynb',\n",
       " 'anaconda3',\n",
       " 'AppData',\n",
       " 'Application Data',\n",
       " 'bankdata(logistic).ipynb',\n",
       " 'books.csv',\n",
       " 'books.d',\n",
       " 'books.db',\n",
       " 'clustering .ipynb',\n",
       " 'Contacts',\n",
       " 'Credit Card General Segmentation Bicky.ipynb',\n",
       " 'Credit card segmentation- Prabin.ipynb',\n",
       " 'CREDIT CARD SPEND PREDICTION USING REGRESSION-bishnu.ipynb',\n",
       " 'CREDIT CARD SPEND PREDICTION USING REGRESSION.ipynb',\n",
       " 'crowdflower_ensembling.jpg',\n",
       " 'Decision tree practical .ipynb',\n",
       " 'Decision tree practical with random forest .ipynb',\n",
       " 'DecissionTree class.ipynb',\n",
       " 'Desktop',\n",
       " 'Documents',\n",
       " 'Downloads',\n",
       " 'DT discussion not yet completed .ipynb',\n",
       " 'Favorites',\n",
       " 'Feature selection and model building 310720.ipynb',\n",
       " 'Hierarchical Clustering.ipynb',\n",
       " 'HR Analytics Decision Trees - Ensemble Learning.ipynb',\n",
       " 'hr_tree.jpg',\n",
       " 'Intel',\n",
       " 'IntelGraphicsProfiles',\n",
       " 'K-Means Clustering.ipynb',\n",
       " 'KNN,SVC,Stacking .ipynb',\n",
       " 'Linear regression part 1.ipynb',\n",
       " 'Linear regression part complete.ipynb',\n",
       " 'Links',\n",
       " 'LoanPrediction.ipynb',\n",
       " 'logestic regression (2).ipynb',\n",
       " 'logestic regression(loan status).ipynb',\n",
       " 'logestic regression-checkpoint.ipynb',\n",
       " 'Logistics regression implementation (1).ipynb',\n",
       " 'Log_ROC.png',\n",
       " 'MicrosoftEdgeBackups',\n",
       " 'ML(reg).ipynb',\n",
       " 'Music',\n",
       " 'naive bayes class .ipynb',\n",
       " 'new practice.ipynb',\n",
       " 'NTUSER.DAT',\n",
       " 'ntuser.dat.LOG1',\n",
       " 'ntuser.dat.LOG2',\n",
       " 'NTUSER.DAT{b548ad77-706e-11e8-b4a2-83de02d90d19}.TM.blf',\n",
       " 'NTUSER.DAT{b548ad77-706e-11e8-b4a2-83de02d90d19}.TMContainer00000000000000000001.regtrans-ms',\n",
       " 'NTUSER.DAT{b548ad77-706e-11e8-b4a2-83de02d90d19}.TMContainer00000000000000000002.regtrans-ms',\n",
       " 'ntuser.ini',\n",
       " 'OneDrive',\n",
       " 'pareto data analysis.ipynb',\n",
       " 'pareto_Assingment.ipynb',\n",
       " 'pca  (1).ipynb',\n",
       " 'Pictures',\n",
       " 'Postman',\n",
       " 'PycharmProjects',\n",
       " 'python basic 14.ipynb',\n",
       " 'PYTHON BASIC 15.ipynb',\n",
       " 'PYTHON BASIC 16.ipynb',\n",
       " 'PYTHON BASIC 17.ipynb',\n",
       " 'Python Basic 21.ipynb',\n",
       " 'python basic Assignment 18.ipynb',\n",
       " 'python basic assignment_1.ipynb',\n",
       " 'python basic assignment_2.ipynb',\n",
       " 'pythonbasic assgn_06.ipynb',\n",
       " 'pythonbasic assgn_10.ipynb',\n",
       " 'pythonbasic assgn_3.ipynb',\n",
       " 'pythonbasic assgn_4.ipynb',\n",
       " 'pythonbasic assgn_5.ipynb',\n",
       " 'pythonbasic assgn_7.ipynb',\n",
       " 'pythonbasic assgn_8.ipynb',\n",
       " 'pythonbasic assgn_9.ipynb',\n",
       " 'Saved Games',\n",
       " 'ScStore',\n",
       " 'Searches',\n",
       " 'seg.ipynb',\n",
       " 'Stock Prediction Prophet .ipynb',\n",
       " 'Telecom Segmentation.ipynb',\n",
       " 'test.txt',\n",
       " 'text analytics.ipynb',\n",
       " 'Time Series_Class Exercise.ipynb',\n",
       " 'today',\n",
       " 'today.txt',\n",
       " 'Tractor Sales Forecasting.ipynb',\n",
       " 'Untitled.ipynb',\n",
       " 'Untitled1.ipynb',\n",
       " 'Untitled10.ipynb',\n",
       " 'Untitled11.ipynb',\n",
       " 'Untitled12.ipynb',\n",
       " 'Untitled13.ipynb',\n",
       " 'Untitled18.ipynb',\n",
       " 'Untitled19.ipynb',\n",
       " 'Untitled2.ipynb',\n",
       " 'Untitled20.ipynb',\n",
       " 'Untitled21.ipynb',\n",
       " 'Untitled22.ipynb',\n",
       " 'Untitled23.ipynb',\n",
       " 'Untitled24.ipynb',\n",
       " 'Untitled25.ipynb',\n",
       " 'Untitled26.ipynb',\n",
       " 'Untitled27.ipynb',\n",
       " 'Untitled3.ipynb',\n",
       " 'Untitled4.ipynb',\n",
       " 'Untitled5.ipynb',\n",
       " 'Untitled6.ipynb',\n",
       " 'Untitled7.ipynb',\n",
       " 'Untitled8.ipynb',\n",
       " 'Untitled9.ipynb',\n",
       " 'Videos',\n",
       " 'XGBOOST.ipynb']"
      ]
     },
     "execution_count": 6,
     "metadata": {},
     "output_type": "execute_result"
    }
   ],
   "source": [
    "import os\n",
    "os.listdir('.')"
   ]
  },
  {
   "cell_type": "markdown",
   "metadata": {
    "id": "t_cu3DbGJ2e_"
   },
   "source": [
    "> Q.  Use multiprocessing to create three separate processes. Make each one wait a random number of seconds between one and five, print the current time, and then exit."
   ]
  },
  {
   "cell_type": "code",
   "execution_count": 7,
   "metadata": {
    "executionInfo": {
     "elapsed": 8,
     "status": "ok",
     "timestamp": 1627041478767,
     "user": {
      "displayName": "Yuno Clover",
      "photoUrl": "",
      "userId": "14793961318254159012"
     },
     "user_tz": -330
    },
    "id": "Gr2Lds7eJ8A7"
   },
   "outputs": [],
   "source": [
    "import multiprocessing\n",
    "\n",
    "def printsec(seconds):\n",
    "    from datetime import datetime\n",
    "    from time import sleep\n",
    "    sleep(seconds)\n",
    "    print('wait', seconds, 'seconds, time is', datetime.utcnow())\n",
    "    \n",
    "if __name__ == '__main__':\n",
    "    import random    \n",
    "    for n in range(3):\n",
    "        seconds = random.random()\n",
    "        proc = multiprocessing.Process(target=printsec, args=(seconds,))\n",
    "        proc.start()"
   ]
  },
  {
   "cell_type": "code",
   "execution_count": 8,
   "metadata": {
    "colab": {
     "base_uri": "https://localhost:8080/"
    },
    "executionInfo": {
     "elapsed": 1304,
     "status": "ok",
     "timestamp": 1627041481604,
     "user": {
      "displayName": "Yuno Clover",
      "photoUrl": "",
      "userId": "14793961318254159012"
     },
     "user_tz": -330
    },
    "id": "xH6iP_F5J-YN",
    "outputId": "a4004d40-121e-4d2a-e5a6-6b56a5e963e2"
   },
   "outputs": [
    {
     "name": "stderr",
     "output_type": "stream",
     "text": [
      "python: can't open file 'abc.py': [Errno 2] No such file or directory\n"
     ]
    }
   ],
   "source": [
    "!python abc.py"
   ]
  },
  {
   "cell_type": "markdown",
   "metadata": {
    "id": "3DQeVniENrtd"
   },
   "source": [
    "> Q. Create a date object of your day of birth"
   ]
  },
  {
   "cell_type": "code",
   "execution_count": 9,
   "metadata": {
    "colab": {
     "base_uri": "https://localhost:8080/"
    },
    "executionInfo": {
     "elapsed": 8,
     "status": "ok",
     "timestamp": 1627041484025,
     "user": {
      "displayName": "Yuno Clover",
      "photoUrl": "",
      "userId": "14793961318254159012"
     },
     "user_tz": -330
    },
    "id": "z4QUpLFOKG_v",
    "outputId": "4681c045-6350-41c5-f8aa-d864ecdb084f"
   },
   "outputs": [
    {
     "data": {
      "text/plain": [
       "datetime.date(1996, 10, 11)"
      ]
     },
     "execution_count": 9,
     "metadata": {},
     "output_type": "execute_result"
    }
   ],
   "source": [
    "my_dob = date(1996,10,11)\n",
    "my_dob"
   ]
  },
  {
   "cell_type": "markdown",
   "metadata": {
    "id": "Dz-aFuxDN9Zl"
   },
   "source": [
    "> Q. What day of the week was your day of birth?"
   ]
  },
  {
   "cell_type": "code",
   "execution_count": 10,
   "metadata": {
    "colab": {
     "base_uri": "https://localhost:8080/"
    },
    "executionInfo": {
     "elapsed": 379,
     "status": "ok",
     "timestamp": 1627041487197,
     "user": {
      "displayName": "Yuno Clover",
      "photoUrl": "",
      "userId": "14793961318254159012"
     },
     "user_tz": -330
    },
    "id": "sne1pWldNyyI",
    "outputId": "e04c7f99-cb6b-4615-fa8e-a7ccce60b16d"
   },
   "outputs": [
    {
     "data": {
      "text/plain": [
       "4"
      ]
     },
     "execution_count": 10,
     "metadata": {},
     "output_type": "execute_result"
    }
   ],
   "source": [
    "my_dob.weekday()"
   ]
  },
  {
   "cell_type": "markdown",
   "metadata": {
    "id": "ElayoapJOODf"
   },
   "source": [
    "> Q. When will you be (or when were you) 10,000 days old?"
   ]
  },
  {
   "cell_type": "code",
   "execution_count": 11,
   "metadata": {
    "colab": {
     "base_uri": "https://localhost:8080/"
    },
    "executionInfo": {
     "elapsed": 379,
     "status": "ok",
     "timestamp": 1627041490319,
     "user": {
      "displayName": "Yuno Clover",
      "photoUrl": "",
      "userId": "14793961318254159012"
     },
     "user_tz": -330
    },
    "id": "HzFn9wlsOR_v",
    "outputId": "bb5ca2b1-3da6-4852-a46b-db5ff5c7ad69"
   },
   "outputs": [
    {
     "data": {
      "text/plain": [
       "datetime.date(2024, 2, 27)"
      ]
     },
     "execution_count": 11,
     "metadata": {},
     "output_type": "execute_result"
    }
   ],
   "source": [
    "from datetime import timedelta\n",
    "day10000 = my_dob + timedelta(days=10000)\n",
    "day10000"
   ]
  },
  {
   "cell_type": "code",
   "execution_count": null,
   "metadata": {
    "id": "Hk50u6fUObdH"
   },
   "outputs": [],
   "source": []
  }
 ],
 "metadata": {
  "colab": {
   "authorship_tag": "ABX9TyPLIbtwncRvSb+gl4fLV2MA",
   "collapsed_sections": [],
   "name": "Python Basic 21.ipynb",
   "provenance": []
  },
  "kernelspec": {
   "display_name": "Python 3",
   "language": "python",
   "name": "python3"
  },
  "language_info": {
   "codemirror_mode": {
    "name": "ipython",
    "version": 3
   },
   "file_extension": ".py",
   "mimetype": "text/x-python",
   "name": "python",
   "nbconvert_exporter": "python",
   "pygments_lexer": "ipython3",
   "version": "3.8.8"
  }
 },
 "nbformat": 4,
 "nbformat_minor": 1
}
