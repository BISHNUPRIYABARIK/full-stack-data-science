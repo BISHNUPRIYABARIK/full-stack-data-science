{
 "cells": [
  {
   "cell_type": "markdown",
   "id": "ebac1c7a",
   "metadata": {},
   "source": [
    "Q1. What is the relationship between def statements and lambda expressions ?\n",
    "\n",
    "Ans. Keyword def that marks the start of the function header. A function name to uniquely identify the function. Function naming follows the same rules of writing identifiers in Python\n",
    "\n",
    "Lambdas are one-line methods without a name or we can say anonymous Func They work practically the same as any other method in Python Lambdas differ from normal Python methods because they can have only one expression, can't contain any statements and their return type is a function object"
   ]
  },
  {
   "cell_type": "markdown",
   "id": "5650d280",
   "metadata": {},
   "source": [
    "Q2. What is the benefit of lambda?\n",
    "\n",
    "The lambda keyword in Python provides a shortcut for declaring small anonymous functions. Lambda functions behave just like regular functions declared with the def keyword. They can be used whenever function objects are required."
   ]
  },
  {
   "cell_type": "markdown",
   "id": "30768986",
   "metadata": {},
   "source": [
    "Q3. Compare and contrast map, filter, and reduce.\n",
    "\n",
    "map creates a new array by transforming every element in an array individually. filter creates a new array by removing elements that don't belong. reduce , on the other hand, takes all of the elements in an array and reduces them into a single value"
   ]
  },
  {
   "cell_type": "markdown",
   "id": "18c14c25",
   "metadata": {},
   "source": [
    "Q4. What are function annotations, and how are they used?\n",
    "\n",
    "Function annotations are arbitrary python expressions that are associated with various part of functions. These expressions are evaluated at compile time and have no life in python's runtime environment. Python does not attach any meaning to these annotations."
   ]
  },
  {
   "cell_type": "markdown",
   "id": "d3ce9b6d",
   "metadata": {},
   "source": [
    "Q5. What are recursive functions, and how are they used?\n",
    "\n",
    "A recursive function is a function that calls itself during its execution. The process may repeat several times, outputting the result and the end of each iteration.\n",
    "\n",
    "The function Count() below uses recursion to count from any number between 1 and 9, to the number 10. For example, Count(1) would return 2,3,4,5,6,7,8,9,10. Count(7) would return 8,9,10. The result could be used as a roundabout way to subtract the number from 10.\n",
    "\n"
   ]
  },
  {
   "cell_type": "markdown",
   "id": "e973e678",
   "metadata": {},
   "source": [
    "Q6. What are some general design guidelines for coding functions?\n",
    "\n",
    "Use 4-space indentation and no tabs.\n",
    "Use docstrings.\n",
    "Wrap lines so that they don’t exceed 79 characters .\n",
    "Use of regular and updated comments are valuable to both the coders and users.\n",
    "Use spaces around operators and after commas, but not directly inside bracketing constructs.\n",
    "Use of trailing commas."
   ]
  },
  {
   "cell_type": "markdown",
   "id": "6b39e585",
   "metadata": {},
   "source": [
    "Q7. Name three or more ways that functions can communicate results to a caller.\n",
    "\n",
    "Ans.\n",
    "\n",
    "Function can return single value\n",
    "Can return multiple values, tuple\n",
    "can return list,dictionary\n",
    "can return function object\n",
    "can return class object"
   ]
  }
 ],
 "metadata": {
  "kernelspec": {
   "display_name": "Python 3",
   "language": "python",
   "name": "python3"
  },
  "language_info": {
   "codemirror_mode": {
    "name": "ipython",
    "version": 3
   },
   "file_extension": ".py",
   "mimetype": "text/x-python",
   "name": "python",
   "nbconvert_exporter": "python",
   "pygments_lexer": "ipython3",
   "version": "3.8.8"
  }
 },
 "nbformat": 4,
 "nbformat_minor": 5
}
