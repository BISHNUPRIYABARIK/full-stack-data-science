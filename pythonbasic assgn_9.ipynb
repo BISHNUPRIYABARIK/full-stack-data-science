{
 "cells": [
  {
   "cell_type": "markdown",
   "id": "f9e76dc3",
   "metadata": {},
   "source": [
    "Q1. To what does a relative path refer?\n",
    "\n",
    "ans:The relative path is the path to some file with respect to your current working directory (PWD).\n",
    "\n",
    "Note, PWD + relative path = absolute path.\n",
    "\n",
    "For example:\n",
    "\n",
    "Absolute path: C:/users/admin/docs/stuff.txt\n",
    "\n",
    "If my PWD is C:/users/admin/, then the relative path to stuff.txt would be: docs/stuff.txt"
   ]
  },
  {
   "cell_type": "markdown",
   "id": "6fa2d131",
   "metadata": {},
   "source": [
    "Q2. What does an absolute path start with your operating system?\n",
    "\n",
    "Absolute paths start with the root folder, such as / or C: \\ ."
   ]
  },
  {
   "cell_type": "markdown",
   "id": "814ec748",
   "metadata": {},
   "source": [
    "Q3. What do the functions os.getcwd() and os.chdir() do?\n",
    "\n",
    "ans: The os package is use to check and set your working directory. This is another good check to implement when you get “a file \n",
    "\n",
    "not found error” in your code.\n",
    "\n",
    "There are two functions in the os package that help you accomplish these tasks:\n",
    "\n",
    "getcwd(): CWD stands for Current Working Directory. This function allows you to see what your current working directory is.\n",
    "\n",
    "chdir(\"path-to-dir\"): Short for CHange DIRectory, this function allows you to set the current working directory to a path of \n",
    "\n",
    "your choice."
   ]
  },
  {
   "cell_type": "markdown",
   "id": "6738e6e9",
   "metadata": {},
   "source": [
    "Q4. What are the . and .. folders?\n",
    "\n",
    "The . folder is the current folder, and .. is the parent folder."
   ]
  },
  {
   "cell_type": "markdown",
   "id": "33efb0d0",
   "metadata": {},
   "source": [
    "Q5. In C:\\bacon\\eggs\\spam.txt, which part is the dir name, and which part is the base name?\n",
    "\n",
    "C:\\bacon\\eggs is the dir name, \n",
    "while spam.txt is the base name."
   ]
  },
  {
   "cell_type": "markdown",
   "id": "7008b55b",
   "metadata": {},
   "source": [
    "Q6. What are the three “mode” arguments that can be passed to the open() function?\n",
    "\n",
    "The string 'r' for read mode, 'w' for write mode, and 'a' for append mode"
   ]
  },
  {
   "cell_type": "markdown",
   "id": "4dec9fd2",
   "metadata": {},
   "source": [
    "Q7. What happens if an existing file is opened in write mode?\n",
    "\n",
    "An existing file opened in write mode is erased and completely overwritten."
   ]
  },
  {
   "cell_type": "raw",
   "id": "8fa59bab",
   "metadata": {},
   "source": [
    "Q8. How do you tell the difference between read() and readlines()?\n",
    "\n",
    "The read() method returns the file's entire contents as a single string value. The readlines() method returns a list of strings, where each string is a line from the file's contents."
   ]
  },
  {
   "cell_type": "raw",
   "id": "665a556e",
   "metadata": {},
   "source": [
    "Q9.What data structure does a shelf value resemble?\n",
    "\n",
    "A shelf value resembles a dictionary value; it has keys and values, along with keys() and values() methods that work similarly to the dictionary methods of the same names."
   ]
  },
  {
   "cell_type": "code",
   "execution_count": null,
   "id": "87221732",
   "metadata": {},
   "outputs": [],
   "source": []
  }
 ],
 "metadata": {
  "kernelspec": {
   "display_name": "Python 3",
   "language": "python",
   "name": "python3"
  },
  "language_info": {
   "codemirror_mode": {
    "name": "ipython",
    "version": 3
   },
   "file_extension": ".py",
   "mimetype": "text/x-python",
   "name": "python",
   "nbconvert_exporter": "python",
   "pygments_lexer": "ipython3",
   "version": "3.8.8"
  }
 },
 "nbformat": 4,
 "nbformat_minor": 5
}
