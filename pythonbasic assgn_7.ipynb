{
 "cells": [
  {
   "cell_type": "markdown",
   "id": "47f104fb",
   "metadata": {},
   "source": [
    "Q1. What is the name of the feature responsible for generating Regex objects?\n",
    "\n",
    "ans: re.compile()"
   ]
  },
  {
   "cell_type": "markdown",
   "id": "e4706a8f",
   "metadata": {},
   "source": [
    "Q2. Why do raw strings often appear in Regex objects?\n",
    "\n",
    "ans:so that backslashes do not have to be escaped."
   ]
  },
  {
   "cell_type": "markdown",
   "id": "6c658a6f",
   "metadata": {},
   "source": [
    "Q3. What is the return value of the search() method?\n",
    "\n",
    "ans:The search() method returns Match objects"
   ]
  },
  {
   "cell_type": "raw",
   "id": "c57d2a21",
   "metadata": {},
   "source": [
    "Q4. From a Match item, how do you get the actual strings that match the pattern?\n",
    "\n",
    "ans:The group() method returns strings of the matched text."
   ]
  },
  {
   "cell_type": "raw",
   "id": "30c495aa",
   "metadata": {},
   "source": [
    "Q5. In the regex which created from the r'(\\d\\d\\d)-(\\d\\d\\d-\\d\\d\\d\\d)', what does group 0 cover? Group 1? Group 2?\n",
    "\n",
    "ans:Group 0 is the entire match, group 1 covers the first set of parentheses, and group 2 covers the second set of parentheses."
   ]
  },
  {
   "cell_type": "raw",
   "id": "df5ba0b0",
   "metadata": {},
   "source": [
    "Q6. In standard expression syntax, parentheses and intervals have distinct meanings. How can you tell\n",
    "a regex that you want it to fit real parentheses and periods?\n",
    "\n",
    "ans:Periods and parentheses can be escaped with a backslash: \\., \\(, and \\)."
   ]
  },
  {
   "cell_type": "raw",
   "id": "a610f71a",
   "metadata": {},
   "source": [
    "Q7. The findall() method returns a string list or a list of string tuples. What causes it to return one of\n",
    "the two options?\n",
    "\n",
    "ans:If the regex has no groups, a  string list is returned. If the regex has groups, a list of string tuples is returned."
   ]
  },
  {
   "cell_type": "raw",
   "id": "d60f89a6",
   "metadata": {},
   "source": [
    "Q8. In standard expressions, what does the | character mean?\n",
    "\n",
    "ans:The | character means matching \"either, or\" between two groups."
   ]
  },
  {
   "cell_type": "raw",
   "id": "019657b0",
   "metadata": {},
   "source": [
    "Q9. In regular expressions, what does the character stand for?\n",
    "\n",
    "ans: The ? character can either mean “match zero or one of the preceding group”."
   ]
  },
  {
   "cell_type": "raw",
   "id": "5724d621",
   "metadata": {},
   "source": [
    "Q10.In regular expressions, what is the difference between the + and * characters?\n",
    "\n",
    "ans:The + matches one or more. The * matches zero or more."
   ]
  },
  {
   "cell_type": "raw",
   "id": "3505085a",
   "metadata": {},
   "source": [
    "Q11.What is the difference between {4} and {4,5} in regular expressions?\n",
    "\n",
    "ans:The {4} matches exactly four instances of the preceding group. The {4,5} matches between four and five instances."
   ]
  },
  {
   "cell_type": "raw",
   "id": "35775686",
   "metadata": {},
   "source": [
    "Q12.What  do you mean by the  \\d, \\w, and \\s shorthand character classes signify in regular expressions?\n",
    "\n",
    "ans:The \\d, \\w, and \\s shorthand character classes match a single digit, word, or space character, respectively."
   ]
  },
  {
   "cell_type": "raw",
   "id": "1bbdd6e7",
   "metadata": {},
   "source": [
    "Q13.What  do you mean by the  \\D, \\W, and \\S shorthand character classes signify in regular expressions?\n",
    "\n",
    "ans:The \\D, \\W, and \\S shorthand character classes match a single character that is not a digit, word, or space character, respectively."
   ]
  },
  {
   "cell_type": "raw",
   "id": "9c74078c",
   "metadata": {},
   "source": [
    "Q14. What is the difference between .*? and .*?\n",
    "\n",
    "ans:.*? will search for a match using as few characters as possible. If you're matching \".*?\" against \"a\" \"b\", the regex engine will report just \"a\" as a match. The greedy version \".*\" would report the entire string as a match because * wants to consume as much input as possible."
   ]
  },
  {
   "cell_type": "raw",
   "id": "58bfd7f8",
   "metadata": {},
   "source": [
    "Q15. What is the syntax for matching both numbers and lowercase letters with a character class?\n",
    "\n",
    "ans:Either [0-9a-z] or [a-z0-9]"
   ]
  },
  {
   "cell_type": "raw",
   "id": "a8b543ba",
   "metadata": {},
   "source": [
    "Q16. What is the procedure for making a normal expression in regax case insensitive?\n",
    "\n",
    "ans:There are two ways to make Regular Expression case-insensitive:\n",
    "1.Using CASE_INSENSITIVE flag.\n",
    "2.Using modifier."
   ]
  },
  {
   "cell_type": "raw",
   "id": "b5220aa0",
   "metadata": {},
   "source": [
    "Q17. What does the . character normally match? What does it match if re.DOTALL is passed as 2nd\n",
    "argument in re.compile()?\n",
    "\n",
    "ans:The . character normally matches any character except the newline character.If re. DOTALL is passed as the second argument to re. compile(), then the dot will also match newline characters."
   ]
  },
  {
   "cell_type": "raw",
   "id": "f89f43fc",
   "metadata": {},
   "source": [
    "Q18.If numReg = re.compile(r'\\d+'), what will numRegex.sub('X', '11 drummers, 10 pipers, five rings, 4 hens') return?\n",
    "\n",
    "ans:'X drummers, X pipers, five rings, X hens'"
   ]
  },
  {
   "cell_type": "raw",
   "id": "f61ff5be",
   "metadata": {},
   "source": [
    "Q19. What does passing re.VERBOSE as the 2nd argument to re.compile() allow to do?\n",
    "\n",
    "ans:The re.VERBOSE argument allows you to add whitespace and comments to the string passed to re.compile()."
   ]
  },
  {
   "cell_type": "raw",
   "id": "53c1bfbf",
   "metadata": {},
   "source": [
    "Q20. How would you write a regex that match a number with comma for every three digits? It must\n",
    "match the given following:\n",
    "'42'\n",
    "'1,234'\n",
    "'6,368,745'\n",
    "but not the following:\n",
    "'12,34,567' (which has only two digits between the commas)\n",
    "'1234' (which lacks commas)\n",
    "\n",
    "ans:re.compile(r'^\\d{1,3}(,\\d{3})*$') will create this regex, but other regex strings can produce a similar regular expression."
   ]
  },
  {
   "cell_type": "raw",
   "id": "be4f5e22",
   "metadata": {},
   "source": [
    "Q21.How would you write a regex that matches the full name of someone whose last name is Watanabe? You can assume that the first name that comes before it will always be one word that begins with a capital letter. The regex must match the following:\n",
    "\n",
    "'Haruto Watanabe'\n",
    "\n",
    "'Alice Watanabe'\n",
    "\n",
    "'Robocop Watanabe'\n",
    "\n",
    "but not the following:\n",
    "\n",
    "'haruto Watanabe' (where the first name is not capitalized)\n",
    "\n",
    "'Mr. Watanabe' (where the preceding word has a nonletter character)\n",
    "\n",
    "'Watanabe' (which has no first name)\n",
    "\n",
    "'Haruto watanabe' (where Watanabe is not capitalized)\n",
    "\n",
    "ans:re.compile(r'[A-Z][a-z]*\\sWatanabe')"
   ]
  },
  {
   "cell_type": "raw",
   "id": "e9af80e0",
   "metadata": {},
   "source": [
    "Q22.How would you write a regex that matches a sentence where the first word is either Alice, Bob, or Carol; the second word is either eats, pets, or throws; the third word is apples, cats, or baseballs; and the sentence ends with a period? This regex should be case-insensitive. It must match the following:\n",
    "\n",
    "'Alice eats apples.'\n",
    "\n",
    "'Bob pets cats.'\n",
    "\n",
    "'Carol throws baseballs.'\n",
    "\n",
    "'Alice throws Apples.'\n",
    "\n",
    "'BOB EATS CATS.'\n",
    "\n",
    "but not the following:\n",
    "\n",
    "'Robocop eats apples.'\n",
    "\n",
    "'ALICE THROWS FOOTBALLS.'\n",
    "\n",
    "'Carol eats 7 cats.'\n",
    "\n",
    "ans:re.compile(r'(Alice|Bob|Carol)\\s(eats|pets|throws)\\s(apples|cats|baseballs)\\.', re.IGNORECASE)"
   ]
  }
 ],
 "metadata": {
  "kernelspec": {
   "display_name": "Python 3",
   "language": "python",
   "name": "python3"
  },
  "language_info": {
   "codemirror_mode": {
    "name": "ipython",
    "version": 3
   },
   "file_extension": ".py",
   "mimetype": "text/x-python",
   "name": "python",
   "nbconvert_exporter": "python",
   "pygments_lexer": "ipython3",
   "version": "3.8.8"
  }
 },
 "nbformat": 4,
 "nbformat_minor": 5
}
