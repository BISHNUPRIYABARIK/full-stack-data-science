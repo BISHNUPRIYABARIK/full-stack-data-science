{
 "cells": [
  {
   "cell_type": "markdown",
   "id": "581a7b48",
   "metadata": {},
   "source": [
    "Q1. What is the name of the feature responsible for generating Regex objects?\n",
    "\n",
    "ans: re.compile()"
   ]
  },
  {
   "cell_type": "markdown",
   "id": "ea4b370d",
   "metadata": {},
   "source": [
    "Q2. Why do raw strings often appear in Regex objects?\n",
    "\n",
    "ans:so that backslashes do not have to be escaped."
   ]
  },
  {
   "cell_type": "markdown",
   "id": "98a59dbb",
   "metadata": {},
   "source": [
    "Q3. What is the return value of the search() method?\n",
    "\n",
    "ans:The search() method returns Match objects"
   ]
  },
  {
   "cell_type": "markdown",
   "id": "153d38e0",
   "metadata": {},
   "source": [
    "Q4. From a Match item, how do you get the actual strings that match the pattern?\n",
    "\n",
    "ans:The group() method returns strings of the matched text."
   ]
  },
  {
   "cell_type": "markdown",
   "id": "669844da",
   "metadata": {},
   "source": [
    "Q5. In the regex which created from the r'(\\d\\d\\d)-(\\d\\d\\d-\\d\\d\\d\\d)', what does group 0 cover? Group 1? Group 2?\n",
    "\n",
    "ans:Group 0 is the entire match, group 1 covers the first set of parentheses, and group 2 covers the second set of parentheses."
   ]
  },
  {
   "cell_type": "markdown",
   "id": "7fe319af",
   "metadata": {},
   "source": [
    "Q6. In standard expression syntax, parentheses and intervals have distinct meanings. How can you tell\n",
    "a regex that you want it to fit real parentheses and periods?\n",
    "\n",
    "ans:Periods and parentheses can be escaped with a backslash: \\., \\(, and \\)."
   ]
  },
  {
   "cell_type": "markdown",
   "id": "38e04521",
   "metadata": {},
   "source": [
    "Q7. The findall() method returns a string list or a list of string tuples. What causes it to return one of\n",
    "the two options?\n",
    "\n",
    "ans:If the regex has no groups, a  string list is returned. If the regex has groups, a list of string tuples is returned."
   ]
  },
  {
   "cell_type": "markdown",
   "id": "495679c0",
   "metadata": {},
   "source": [
    "Q8. In standard expressions, what does the | character mean?\n",
    "\n",
    "ans:The | character means matching \"either, or\" between two groups."
   ]
  },
  {
   "cell_type": "markdown",
   "id": "b3089a80",
   "metadata": {},
   "source": [
    "Q9. In regular expressions, what does the character stand for?\n",
    "\n",
    "ans: The ? character can either mean “match zero or one of the preceding group”."
   ]
  },
  {
   "cell_type": "markdown",
   "id": "7dc5728a",
   "metadata": {},
   "source": [
    "Q10.In regular expressions, what is the difference between the + and * characters?\n",
    "\n",
    "ans:The + matches one or more. The * matches zero or more."
   ]
  },
  {
   "cell_type": "markdown",
   "id": "de1e939a",
   "metadata": {},
   "source": [
    "Q11.What is the difference between {4} and {4,5} in regular expressions?\n",
    "\n",
    "ans:The {4} matches exactly four instances of the preceding group. The {4,5} matches between four and five instances."
   ]
  },
  {
   "cell_type": "markdown",
   "id": "0655ad7f",
   "metadata": {},
   "source": [
    "Q12.What  do you mean by the  \\d, \\w, and \\s shorthand character classes signify in regular expressions?\n",
    "\n",
    "ans:The \\d, \\w, and \\s shorthand character classes match a single digit, word, or space character, respectively."
   ]
  },
  {
   "cell_type": "markdown",
   "id": "20e9d2b5",
   "metadata": {},
   "source": [
    "Q13.What  do you mean by the  \\D, \\W, and \\S shorthand character classes signify in regular expressions?\n",
    "\n",
    "ans:The \\D, \\W, and \\S shorthand character classes match a single character that is not a digit, word, or space character, respectively."
   ]
  },
  {
   "cell_type": "markdown",
   "id": "2a99a184",
   "metadata": {},
   "source": [
    "#Q14. What is the difference between .*? and .*?\n",
    "\n",
    "ans:.*? will search for a match using as few characters as possible. If you're matching \".*?\" against \"a\" \"b\", the regex engine will report just \"a\" as a match. The greedy version \".*\" would report the entire string as a match because * wants to consume as much input as possible."
   ]
  },
  {
   "cell_type": "code",
   "execution_count": null,
   "id": "464b6baf",
   "metadata": {},
   "outputs": [],
   "source": [
    "# Q15. What is the syntax for matching both numbers and lowercase letters with a character class?\n",
    "\n",
    "ans:Either [0-9a-z] or [a-z0-9]"
   ]
  },
  {
   "cell_type": "markdown",
   "id": "c79a0b20",
   "metadata": {},
   "source": [
    "Q16. What is the procedure for making a normal expression in regax case insensitive?\n",
    "\n",
    "ans:There are two ways to make Regular Expression case-insensitive:\n",
    "1.Using CASE_INSENSITIVE flag.\n",
    "2.Using modifier."
   ]
  },
  {
   "cell_type": "markdown",
   "id": "797ee4e7",
   "metadata": {},
   "source": [
    "Q17. What does the . character normally match? What does it match if re.DOTALL is passed as 2nd\n",
    "argument in re.compile()?\n",
    "\n",
    "ans:The . character normally matches any character except the newline character.If re. DOTALL is passed as the second argument to re. compile(), then the dot will also match newline characters."
   ]
  },
  {
   "cell_type": "markdown",
   "id": "26d6cd72",
   "metadata": {},
   "source": [
    "Q18.If numReg = re.compile(r'\\d+'), what will numRegex.sub('X', '11 drummers, 10 pipers, five rings, 4 hens') return?\n",
    "\n",
    "ans:'X drummers, X pipers, five rings, X hens'"
   ]
  },
  {
   "cell_type": "markdown",
   "id": "cdf2dc90",
   "metadata": {},
   "source": [
    "Q19. What does passing re.VERBOSE as the 2nd argument to re.compile() allow to do?\n",
    "\n",
    "ans:The re.VERBOSE argument allows you to add whitespace and comments to the string passed to re.compile()."
   ]
  },
  {
   "cell_type": "markdown",
   "id": "b2818d2f",
   "metadata": {},
   "source": [
    "#Q20. How would you write a regex that match a number with comma for every three digits? It must\n",
    "match the given following:\n",
    "'42'\n",
    "'1,234'\n",
    "'6,368,745'\n",
    "but not the following:\n",
    "'12,34,567' (which has only two digits between the commas)\n",
    "'1234' (which lacks commas)\n",
    "\n",
    "ans:re.compile(r'^\\d{1,3}(,\\d{3})*$') will create this regex, but other regex strings can produce a similar regular expression."
   ]
  },
  {
   "cell_type": "markdown",
   "id": "b46221e0",
   "metadata": {},
   "source": [
    "Q21.How would you write a regex that matches the full name of someone whose last name is Watanabe? You can assume that the first name that comes before it will always be one word that begins with a capital letter. The regex must match the following:\n",
    "\n",
    "'Haruto Watanabe'\n",
    "\n",
    "'Alice Watanabe'\n",
    "\n",
    "'Robocop Watanabe'\n",
    "\n",
    "but not the following:\n",
    "\n",
    "'haruto Watanabe' (where the first name is not capitalized)\n",
    "\n",
    "'Mr. Watanabe' (where the preceding word has a nonletter character)\n",
    "\n",
    "'Watanabe' (which has no first name)\n",
    "\n",
    "'Haruto watanabe' (where Watanabe is not capitalized)\n",
    "\n",
    "ans:re.compile(r'[A-Z][a-z]*\\sWatanabe')"
   ]
  },
  {
   "cell_type": "markdown",
   "id": "b2633d61",
   "metadata": {},
   "source": [
    "Q22.How would you write a regex that matches a sentence where the first word is either Alice, Bob, or Carol; the second word is either eats, pets, or throws; the third word is apples, cats, or baseballs; and the sentence ends with a period? This regex should be case-insensitive. It must match the following:\n",
    "\n",
    "'Alice eats apples.'\n",
    "\n",
    "'Bob pets cats.'\n",
    "\n",
    "'Carol throws baseballs.'\n",
    "\n",
    "'Alice throws Apples.'\n",
    "\n",
    "'BOB EATS CATS.'\n",
    "\n",
    "but not the following:\n",
    "\n",
    "'Robocop eats apples.'\n",
    "\n",
    "'ALICE THROWS FOOTBALLS.'\n",
    "\n",
    "'Carol eats 7 cats.'\n",
    "\n",
    "ans:re.compile(r'(Alice|Bob|Carol)\\s(eats|pets|throws)\\s(apples|cats|baseballs)\\.', re.IGNORECASE)"
   ]
  },
  {
   "cell_type": "code",
   "execution_count": null,
   "id": "db52a330",
   "metadata": {},
   "outputs": [],
   "source": []
  },
  {
   "cell_type": "code",
   "execution_count": null,
   "id": "58c97b8c",
   "metadata": {},
   "outputs": [],
   "source": []
  }
 ],
 "metadata": {
  "kernelspec": {
   "display_name": "Python 3",
   "language": "python",
   "name": "python3"
  },
  "language_info": {
   "codemirror_mode": {
    "name": "ipython",
    "version": 3
   },
   "file_extension": ".py",
   "mimetype": "text/x-python",
   "name": "python",
   "nbconvert_exporter": "python",
   "pygments_lexer": "ipython3",
   "version": "3.8.8"
  }
 },
 "nbformat": 4,
 "nbformat_minor": 5
}
