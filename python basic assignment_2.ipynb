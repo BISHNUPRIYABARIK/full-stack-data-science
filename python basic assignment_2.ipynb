{
 "cells": [
  {
   "cell_type": "markdown",
   "id": "eb60e434",
   "metadata": {},
   "source": [
    "1.What are the two values of the Boolean data type? How do you write them?\n",
    "\n",
    "It has two possible values: True and False. write using capital T and F, with the rest of the word in lowercase."
   ]
  },
  {
   "cell_type": "raw",
   "id": "6b7de273",
   "metadata": {},
   "source": [
    "2. What are the three different types of Boolean operators?\n",
    " \n",
    " AND, OR, NOT"
   ]
  },
  {
   "cell_type": "raw",
   "id": "6a6b22d1",
   "metadata": {},
   "source": [
    "3. Make a list of each Boolean operator's truth tables (i.e. every possible combination of Boolean\n",
    "values for the operator and what it evaluate ).\n",
    "\n",
    "Ans:\n",
    "(Truth Table for AND)\n",
    "T AND T =T\n",
    "T AND F =F\n",
    "F AND T =F\n",
    "F AND F =F\n",
    "\n",
    "(Truth Table for AND)\n",
    "T OR T =T\n",
    "T OR F =T\n",
    "F OR T =T\n",
    "F OR F =F\n",
    "\n",
    "(Truth Table for NOT)\n",
    "T =F\n",
    "F =T\n",
    "\n",
    "\n"
   ]
  },
  {
   "cell_type": "raw",
   "id": "e7fcaf23",
   "metadata": {},
   "source": [
    "4. What are the values of the following expressions?\n",
    "\n",
    "(5 > 4) and (3 == 5) \n",
    "ANS:False\n",
    "not (5 > 4)\n",
    "ANS:False\n",
    "(5 > 4) or (3 == 5)\n",
    "ANS:True\n",
    "not ((5 > 4) or (3 == 5))\n",
    "ANS:False\n",
    "(True and True) and (True == False)\n",
    "ANS:False\n",
    "(not False) or (not True)\n",
    "ANS:True"
   ]
  },
  {
   "cell_type": "raw",
   "id": "be5d75f2",
   "metadata": {},
   "source": [
    "5. What are the six comparison operators?\n",
    "\n",
    "equal to, not equal to, greater than, greater than or equal to, less than, and less than or equal to."
   ]
  },
  {
   "cell_type": "raw",
   "id": "662ecc1d",
   "metadata": {},
   "source": [
    "6. How do you tell the difference between the equal to and assignment operators?Describe a\n",
    "condition and when you would use one.\n",
    "\n",
    "The = is the assignment operator used for assigning a value to a variable.E.g. int a = 10; assigns 10 to variable a.\n",
    "The == (Equal to) operators.E.g. if (a == 10) checks if variable a is equal to 10 or not."
   ]
  },
  {
   "cell_type": "code",
   "execution_count": null,
   "id": "684dfdef",
   "metadata": {},
   "outputs": [],
   "source": [
    "7. Identify the three blocks in this code:\n",
    "spam = 0\n",
    "if spam == 10:\n",
    "print('eggs')\n",
    "if spam > 5:\n",
    "print('bacon')\n",
    "else:\n",
    "print('ham')\n",
    "print('spam')\n",
    "print('spam')\n",
    "\n",
    "\n",
    "Ans:\n",
    "#block1#\n",
    "if spam == 10:\n",
    "    print('eggs')\n",
    "\n",
    "#block2#\n",
    "if spam > 5:\n",
    "    print('bacon')\n",
    "    \n",
    "#block3#\n",
    "else:\n",
    "    print('ham')\n",
    "    print('spam')\n",
    "    print('spam')\n",
    "\n",
    "    "
   ]
  },
  {
   "cell_type": "code",
   "execution_count": null,
   "id": "9b1d2ebd",
   "metadata": {},
   "outputs": [],
   "source": [
    "###8. Write code that prints Hello if 1 is stored in spam, prints Howdy if 2 is stored in spam, and prints Greetings! if anything else is stored in spam.###\n",
    "\n",
    "if spam == 1:\n",
    "    print('Hello')\n",
    "elif spam ==2:\n",
    "    print('Howdy')\n",
    "else:\n",
    "    print('Greetings!')\n"
   ]
  },
  {
   "cell_type": "raw",
   "id": "9a6e25c3",
   "metadata": {},
   "source": [
    "9.If your programme is stuck in an endless loop, what keys you’ll press?\n",
    "\n",
    "ctrl+c,ctrl+pausebreak"
   ]
  },
  {
   "cell_type": "raw",
   "id": "b24d12d9",
   "metadata": {},
   "source": [
    "10. How can you tell the difference between break and continue?\n",
    "\n",
    "Break leaves the loop completely and executes the statements after the loop. Whereas Continue leaves the current executing loop and executes with the next value in the loop.\n"
   ]
  },
  {
   "cell_type": "raw",
   "id": "097c04cf",
   "metadata": {},
   "source": [
    "11. In a for loop, what is the difference between range(10), range(0, 10), and range(0, 10, 1)?\n",
    "\n",
    "these 3 different codes give same result.but interpretation is different.\n",
    "here range(10) means returns the value 0 to 10-1.\n",
    "range(0,10) means it starts at 0 and stops at the last value before 10\n",
    "range(0, 10, 1) means it starts at 0, proceeds forward by adding 1 to the last value, and stops at the last value before 10. "
   ]
  },
  {
   "cell_type": "code",
   "execution_count": null,
   "id": "1352a2b2",
   "metadata": {},
   "outputs": [],
   "source": [
    "#12. Write a short program that prints the numbers 1 to 10 using a for loop. Then write an equivalent program that prints the numbers 1 to 10 using a while loop.#\n",
    "\n",
    "#for loop#\n",
    "for i in range(1, 11):\n",
    "    print(i)\n",
    "    \n",
    "# while loop# \n",
    "i = 1\n",
    "while(i<=10):\n",
    "    print(i)\n",
    "    i += 1"
   ]
  },
  {
   "cell_type": "raw",
   "id": "78ca2ebd",
   "metadata": {},
   "source": [
    "13. If you had a function named bacon() inside a module named spam, how would you call it after\n",
    "importing spam?\n",
    "\n",
    "spam.bacon()"
   ]
  },
  {
   "cell_type": "code",
   "execution_count": null,
   "id": "3598ca69",
   "metadata": {},
   "outputs": [],
   "source": []
  }
 ],
 "metadata": {
  "kernelspec": {
   "display_name": "Python 3",
   "language": "python",
   "name": "python3"
  },
  "language_info": {
   "codemirror_mode": {
    "name": "ipython",
    "version": 3
   },
   "file_extension": ".py",
   "mimetype": "text/x-python",
   "name": "python",
   "nbconvert_exporter": "python",
   "pygments_lexer": "ipython3",
   "version": "3.8.8"
  }
 },
 "nbformat": 4,
 "nbformat_minor": 5
}
