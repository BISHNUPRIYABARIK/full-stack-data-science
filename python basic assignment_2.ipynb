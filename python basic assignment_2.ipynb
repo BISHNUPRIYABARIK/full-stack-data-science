{
 "cells": [
  {
   "cell_type": "markdown",
   "id": "eb60e434",
   "metadata": {},
   "source": [
    "Q1.What are the two values of the Boolean data type? How do you write them?\n",
    "\n",
    "It has two possible values: True and False. write using capital T and F, with the rest of the word in lowercase."
   ]
  },
  {
   "cell_type": "markdown",
   "id": "4cfa79e5",
   "metadata": {},
   "source": [
    "Q2. What are the three different types of Boolean operators?\n",
    " \n",
    " AND, OR, NOT"
   ]
  },
  {
   "cell_type": "markdown",
   "id": "9289bfe6",
   "metadata": {},
   "source": [
    "Q3. Make a list of each Boolean operator's truth tables (i.e. every possible combination of Boolean\n",
    "values for the operator and what it evaluate ).\n",
    "\n",
    "Ans:\n",
    "(Truth Table for AND)\n",
    "T AND T =T\n",
    "T AND F =F\n",
    "F AND T =F\n",
    "F AND F =F\n",
    "\n",
    "(Truth Table for AND)\n",
    "T OR T =T\n",
    "T OR F =T\n",
    "F OR T =T\n",
    "F OR F =F\n",
    "\n",
    "(Truth Table for NOT)\n",
    "T =F\n",
    "F =T\n",
    "\n",
    "\n"
   ]
  },
  {
   "cell_type": "markdown",
   "id": "3c2dc315",
   "metadata": {},
   "source": [
    "Q4. What are the values of the following expressions?\n",
    "\n",
    "(5 > 4) and (3 == 5) \n",
    "ANS:False\n",
    "not (5 > 4)\n",
    "ANS:False\n",
    "(5 > 4) or (3 == 5)\n",
    "ANS:True\n",
    "not ((5 > 4) or (3 == 5))\n",
    "ANS:False\n",
    "(True and True) and (True == False)\n",
    "ANS:False\n",
    "(not False) or (not True)\n",
    "ANS:True"
   ]
  },
  {
   "cell_type": "markdown",
   "id": "b12117c2",
   "metadata": {},
   "source": [
    "Q5. What are the six comparison operators?\n",
    "\n",
    "equal to, not equal to, greater than, greater than or equal to, less than, and less than or equal to."
   ]
  },
  {
   "cell_type": "markdown",
   "id": "735fbb2e",
   "metadata": {},
   "source": [
    "Q6. How do you tell the difference between the equal to and assignment operators?Describe a\n",
    "condition and when you would use one.\n",
    "\n",
    "The = is the assignment operator used for assigning a value to a variable.E.g. int a = 10; assigns 10 to variable a.\n",
    "The == (Equal to) operators.E.g. if (a == 10) checks if variable a is equal to 10 or not."
   ]
  },
  {
   "cell_type": "code",
   "execution_count": 1,
   "id": "684dfdef",
   "metadata": {},
   "outputs": [
    {
     "ename": "SyntaxError",
     "evalue": "invalid syntax (<ipython-input-1-26f23287d372>, line 1)",
     "output_type": "error",
     "traceback": [
      "\u001b[1;36m  File \u001b[1;32m\"<ipython-input-1-26f23287d372>\"\u001b[1;36m, line \u001b[1;32m1\u001b[0m\n\u001b[1;33m    7. Identify the three blocks in this code:\u001b[0m\n\u001b[1;37m       ^\u001b[0m\n\u001b[1;31mSyntaxError\u001b[0m\u001b[1;31m:\u001b[0m invalid syntax\n"
     ]
    }
   ],
   "source": [
    "7. Identify the three blocks in this code:\n",
    "spam = 0\n",
    "if spam == 10:\n",
    "print('eggs')\n",
    "if spam > 5:\n",
    "print('bacon')\n",
    "else:\n",
    "print('ham')\n",
    "print('spam')\n",
    "print('spam')\n",
    "\n",
    "\n",
    "Ans:\n",
    "#block1#\n",
    "if spam == 10:\n",
    "    print('eggs')\n",
    "\n",
    "#block2#\n",
    "if spam > 5:\n",
    "    print('bacon')\n",
    "    \n",
    "#block3#\n",
    "else:\n",
    "    print('ham')\n",
    "    print('spam')\n",
    "    print('spam')\n",
    "\n",
    "    "
   ]
  },
  {
   "cell_type": "code",
   "execution_count": 2,
   "id": "9b1d2ebd",
   "metadata": {},
   "outputs": [
    {
     "ename": "NameError",
     "evalue": "name 'spam' is not defined",
     "output_type": "error",
     "traceback": [
      "\u001b[1;31m---------------------------------------------------------------------------\u001b[0m",
      "\u001b[1;31mNameError\u001b[0m                                 Traceback (most recent call last)",
      "\u001b[1;32m<ipython-input-2-0498d622ed6c>\u001b[0m in \u001b[0;36m<module>\u001b[1;34m\u001b[0m\n\u001b[0;32m      1\u001b[0m \u001b[1;31m###8. Write code that prints Hello if 1 is stored in spam, prints Howdy if 2 is stored in spam, and prints Greetings! if anything else is stored in spam.###\u001b[0m\u001b[1;33m\u001b[0m\u001b[1;33m\u001b[0m\u001b[1;33m\u001b[0m\u001b[0m\n\u001b[0;32m      2\u001b[0m \u001b[1;33m\u001b[0m\u001b[0m\n\u001b[1;32m----> 3\u001b[1;33m \u001b[1;32mif\u001b[0m \u001b[0mspam\u001b[0m \u001b[1;33m==\u001b[0m \u001b[1;36m1\u001b[0m\u001b[1;33m:\u001b[0m\u001b[1;33m\u001b[0m\u001b[1;33m\u001b[0m\u001b[0m\n\u001b[0m\u001b[0;32m      4\u001b[0m     \u001b[0mprint\u001b[0m\u001b[1;33m(\u001b[0m\u001b[1;34m'Hello'\u001b[0m\u001b[1;33m)\u001b[0m\u001b[1;33m\u001b[0m\u001b[1;33m\u001b[0m\u001b[0m\n\u001b[0;32m      5\u001b[0m \u001b[1;32melif\u001b[0m \u001b[0mspam\u001b[0m \u001b[1;33m==\u001b[0m\u001b[1;36m2\u001b[0m\u001b[1;33m:\u001b[0m\u001b[1;33m\u001b[0m\u001b[1;33m\u001b[0m\u001b[0m\n",
      "\u001b[1;31mNameError\u001b[0m: name 'spam' is not defined"
     ]
    }
   ],
   "source": [
    "###8. Write code that prints Hello if 1 is stored in spam, prints Howdy if 2 is stored in spam, and prints Greetings! if anything else is stored in spam.###\n",
    "\n",
    "if spam == 1:\n",
    "    print('Hello')\n",
    "elif spam ==2:\n",
    "    print('Howdy')\n",
    "else:\n",
    "    print('Greetings!')\n"
   ]
  },
  {
   "cell_type": "markdown",
   "id": "edb838b7",
   "metadata": {},
   "source": [
    "Q9.If your programme is stuck in an endless loop, what keys you’ll press?\n",
    "\n",
    "ctrl+c,ctrl+pausebreak"
   ]
  },
  {
   "cell_type": "markdown",
   "id": "a959186f",
   "metadata": {},
   "source": [
    "Q10. How can you tell the difference between break and continue?\n",
    "\n",
    "Break leaves the loop completely and executes the statements after the loop. Whereas Continue leaves the current executing loop and executes with the next value in the loop.\n"
   ]
  },
  {
   "cell_type": "markdown",
   "id": "dc2a849d",
   "metadata": {},
   "source": [
    "Q11. In a for loop, what is the difference between range(10), range(0, 10), and range(0, 10, 1)?\n",
    "\n",
    "these 3 different codes give same result.but interpretation is different.\n",
    "here range(10) means returns the value 0 to 10-1.\n",
    "range(0,10) means it starts at 0 and stops at the last value before 10\n",
    "range(0, 10, 1) means it starts at 0, proceeds forward by adding 1 to the last value, and stops at the last value before 10. "
   ]
  },
  {
   "cell_type": "code",
   "execution_count": 3,
   "id": "1352a2b2",
   "metadata": {},
   "outputs": [
    {
     "name": "stdout",
     "output_type": "stream",
     "text": [
      "1\n",
      "2\n",
      "3\n",
      "4\n",
      "5\n",
      "6\n",
      "7\n",
      "8\n",
      "9\n",
      "10\n",
      "1\n",
      "2\n",
      "3\n",
      "4\n",
      "5\n",
      "6\n",
      "7\n",
      "8\n",
      "9\n",
      "10\n"
     ]
    }
   ],
   "source": [
    "#12. Write a short program that prints the numbers 1 to 10 using a for loop. Then write an equivalent program that prints the numbers 1 to 10 using a while loop.#\n",
    "\n",
    "#for loop#\n",
    "for i in range(1, 11):\n",
    "    print(i)\n",
    "    \n",
    "# while loop# \n",
    "i = 1\n",
    "while(i<=10):\n",
    "    print(i)\n",
    "    i += 1"
   ]
  },
  {
   "cell_type": "markdown",
   "id": "441404e7",
   "metadata": {},
   "source": [
    "Q13. If you had a function named bacon() inside a module named spam, how would you call it after\n",
    "importing spam?\n",
    "\n",
    "spam.bacon()"
   ]
  },
  {
   "cell_type": "code",
   "execution_count": null,
   "id": "3598ca69",
   "metadata": {},
   "outputs": [],
   "source": []
  }
 ],
 "metadata": {
  "kernelspec": {
   "display_name": "Python 3",
   "language": "python",
   "name": "python3"
  },
  "language_info": {
   "codemirror_mode": {
    "name": "ipython",
    "version": 3
   },
   "file_extension": ".py",
   "mimetype": "text/x-python",
   "name": "python",
   "nbconvert_exporter": "python",
   "pygments_lexer": "ipython3",
   "version": "3.8.8"
  }
 },
 "nbformat": 4,
 "nbformat_minor": 5
}
