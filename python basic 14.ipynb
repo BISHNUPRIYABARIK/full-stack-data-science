{
 "cells": [
  {
   "cell_type": "markdown",
   "id": "bb22b3ee",
   "metadata": {},
   "source": [
    "Q1. What advantages do Excel spreadsheets have over CSV spreadsheets?\n",
    "\n",
    "ans:Excel is more superior when compared with the CSV file format ; thus, CSV consumes less amount of file size when the user is importing data; it is a much faster format compared to excel. CSV does not manipulate data and stores it as - is. Excel also allows the user the add-in feature.\n"
   ]
  },
  {
   "cell_type": "markdown",
   "id": "b858133c",
   "metadata": {},
   "source": [
    "Q2.What do you pass to csv.reader() and csv.writer() to create reader and writer objects?\n",
    "\n",
    "path"
   ]
  },
  {
   "cell_type": "markdown",
   "id": "33572d12",
   "metadata": {},
   "source": [
    "Q3. What modes do File objects for reader and writer objects need to be opened in?\n",
    "\n",
    "'r' & 'w' modes do File objects for reader and writer objects need to be opened in"
   ]
  },
  {
   "cell_type": "markdown",
   "id": "b9086d36",
   "metadata": {},
   "source": [
    "Q4. What method takes a list argument and writes it to a CSV file?\n",
    " \n",
    "csv. writer writerow "
   ]
  },
  {
   "cell_type": "markdown",
   "id": "6934d7a2",
   "metadata": {},
   "source": [
    "Q5. What do the keyword arguments delimiter and line terminator do?\n",
    "\n",
    "The line terminator is the character that comes at the end of a row. By default, the line terminator is a newline. You can change characters to different values by using the delimiter and lineterminator keyword arguments with csv. writer() ."
   ]
  },
  {
   "cell_type": "markdown",
   "id": "8abc0898",
   "metadata": {},
   "source": [
    "Q6. What function takes a string of JSON data and returns a Python data structure?\n",
    "\n",
    "load()"
   ]
  },
  {
   "cell_type": "markdown",
   "id": "700d52e9",
   "metadata": {},
   "source": [
    "Q7. What function takes a Python data structure and returns a string of JSON data?\n",
    "\n",
    "dumps()"
   ]
  }
 ],
 "metadata": {
  "kernelspec": {
   "display_name": "Python 3",
   "language": "python",
   "name": "python3"
  },
  "language_info": {
   "codemirror_mode": {
    "name": "ipython",
    "version": 3
   },
   "file_extension": ".py",
   "mimetype": "text/x-python",
   "name": "python",
   "nbconvert_exporter": "python",
   "pygments_lexer": "ipython3",
   "version": "3.8.8"
  }
 },
 "nbformat": 4,
 "nbformat_minor": 5
}
