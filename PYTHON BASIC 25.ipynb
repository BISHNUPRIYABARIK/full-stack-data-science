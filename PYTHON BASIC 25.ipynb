{
 "cells": [
  {
   "cell_type": "markdown",
   "id": "e394c86d",
   "metadata": {},
   "source": [
    "Q1) . What is the difference between enclosing a list comprehension in square brackets and\n",
    "parentheses?\n",
    "\n",
    "Brackets are used to index into an array. Parentheses are used for two purposes: (1) to control the order of operations in an expression, and (2) to supply parameters to a constructor or method."
   ]
  },
  {
   "cell_type": "markdown",
   "id": "5a7f44c8",
   "metadata": {},
   "source": [
    "Q2) What is the relationship between generators and iterators?\n",
    "\n",
    "Iterators are used mostly to iterate or convert other objects to an iterator using iter() function and Implemented using a class.Generators are mostly used in loops to generate an iterator by returning all the values in the loop without affecting the iteration of the loop and Implemented using a function."
   ]
  },
  {
   "cell_type": "markdown",
   "id": "9edb9147",
   "metadata": {},
   "source": [
    "Q3) What are the signs that a function is a generator function?\n",
    "\n",
    "If a function contains at least one yield statement (it may contain other yield or return statements), it becomes a generator function."
   ]
  },
  {
   "cell_type": "markdown",
   "id": "053f7820",
   "metadata": {},
   "source": [
    "Q4) What is the purpose of a yield statement?\n",
    "\n",
    "In its simplest form, a yield statement looks much like a return statement, except that instead of stopping execution of the function and returning, yield instead provides a value to the code looping over the generator and pauses execution of the generator function."
   ]
  },
  {
   "cell_type": "markdown",
   "id": "a1c65402",
   "metadata": {},
   "source": [
    "Q5) What is the relationship between map calls and list comprehensions? Make a comparison and\n",
    "contrast between the two.\n",
    "\n",
    "List comprehension is more concise and easier to read as compared to map. List comprehension are used when a list of results is required as map only returns a map object and does not return any list. Map is faster in case of calling an already defined function (as no lambda is required)."
   ]
  }
 ],
 "metadata": {
  "kernelspec": {
   "display_name": "Python 3",
   "language": "python",
   "name": "python3"
  },
  "language_info": {
   "codemirror_mode": {
    "name": "ipython",
    "version": 3
   },
   "file_extension": ".py",
   "mimetype": "text/x-python",
   "name": "python",
   "nbconvert_exporter": "python",
   "pygments_lexer": "ipython3",
   "version": "3.8.8"
  }
 },
 "nbformat": 4,
 "nbformat_minor": 5
}
