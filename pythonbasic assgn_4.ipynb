{
 "cells": [
  {
   "cell_type": "raw",
   "id": "d0b6fcaa",
   "metadata": {},
   "source": [
    "1. What exactly is []?\n",
    "\n",
    "ans:The empty list value, which is a list value that contains no items."
   ]
  },
  {
   "cell_type": "raw",
   "id": "aebab55c",
   "metadata": {},
   "source": [
    "2. In a list of values stored in a variable called spam, how would you assign the value 'hello'as the\n",
    "third value? (Assume [2, 4, 6, 8, 10] are in spam.)\n",
    "\n",
    "\n",
    "ans:spam[2] = 'hello'"
   ]
  },
  {
   "cell_type": "code",
   "execution_count": null,
   "id": "62370676",
   "metadata": {},
   "outputs": [],
   "source": [
    "#Let's pretend the spam includes the list ['a','b','c','d'] for the next three queries.#"
   ]
  },
  {
   "cell_type": "raw",
   "id": "d76c3e4b",
   "metadata": {},
   "source": [
    "3. What is the value of spam[int(int('3' * 2) / 11)]?\n",
    "\n",
    "Ans: 3"
   ]
  },
  {
   "cell_type": "raw",
   "id": "ccd01c03",
   "metadata": {},
   "source": [
    "4. What is the value of spam[-1]?\n",
    "Ans:d\n"
   ]
  },
  {
   "cell_type": "raw",
   "id": "ed65638f",
   "metadata": {},
   "source": [
    "5. What is the value of spam[:2]?\n",
    "ans: ['a','b']\n"
   ]
  },
  {
   "cell_type": "code",
   "execution_count": null,
   "id": "da257188",
   "metadata": {},
   "outputs": [],
   "source": [
    "#Let's pretend bacon has the list [3.14, 'cat', 11, 'cat', True] for the next three questions."
   ]
  },
  {
   "cell_type": "raw",
   "id": "b5b29387",
   "metadata": {},
   "source": [
    "6. What is the value of bacon.index('cat')?\n",
    "ans:1\n"
   ]
  },
  {
   "cell_type": "raw",
   "id": "b12b9b07",
   "metadata": {},
   "source": [
    "7. How does bacon.append(99) change the look of the list value in bacon?\n",
    "ans:[3.14, 'cat', 11, 'cat', True,99] \n"
   ]
  },
  {
   "cell_type": "raw",
   "id": "c2b835d6",
   "metadata": {},
   "source": [
    "8. How does bacon.remove('cat') change the look of the list in bacon?\n",
    "ans:[3.14, 11, 'cat', True]"
   ]
  },
  {
   "cell_type": "raw",
   "id": "445cee3c",
   "metadata": {},
   "source": [
    "9. What are the list concatenation and list replication operators?\n",
    "ans:The operator for list concatenation is +, while the operator for replication is *."
   ]
  },
  {
   "cell_type": "raw",
   "id": "d3b5ce9a",
   "metadata": {},
   "source": [
    "10. What is difference between the list methods append() and insert()?\n",
    "ans:While append() will add values only to the end of a list, insert() can add them anywhere in the list."
   ]
  },
  {
   "cell_type": "raw",
   "id": "b536e47c",
   "metadata": {},
   "source": [
    "11. What are the two methods for removing items from a list?\n",
    "ans:pop(),remove()\n"
   ]
  },
  {
   "cell_type": "raw",
   "id": "e27a1a76",
   "metadata": {},
   "source": [
    "12. Describe how list values and string values are identical.\n",
    "ans:Both lists and strings can be passed to len(), have indexes and slices, be used in for loops, be concatenated or replicated, and be used with the in and not in operators."
   ]
  },
  {
   "cell_type": "raw",
   "id": "d94160fd",
   "metadata": {},
   "source": [
    "13. What's the difference between tuples and lists?\n",
    "ans:Lists are mutable but Tuples are immutable Also, tuples are written using parentheses, (  ), while lists use the square brackets, [  ]."
   ]
  },
  {
   "cell_type": "raw",
   "id": "bc69b5f6",
   "metadata": {},
   "source": [
    "14. How do you type a tuple value that only contains the integer 42?\n",
    "ans:(42,)"
   ]
  },
  {
   "cell_type": "raw",
   "id": "307af3c0",
   "metadata": {},
   "source": [
    "15. How do you get a list value's tuple form? How do you get a tuple value's list form?\n",
    "ans:"
   ]
  },
  {
   "cell_type": "raw",
   "id": "814d0a1b",
   "metadata": {},
   "source": [
    "16. Variables that \"contain\" list values are not necessarily lists themselves. Instead, what do they\n",
    "contain?\n",
    "ans:They contain references to list values."
   ]
  },
  {
   "cell_type": "raw",
   "id": "826adc37",
   "metadata": {},
   "source": [
    "17. How do you distinguish between copy.copy() and copy.deepcopy()?\n",
    "ans:The copy.copy() function will do a shallow copy of a list, while the copy.deepcopy() function will do a deep copy of a list. That is, only copy.deepcopy() will duplicate any lists inside the list."
   ]
  }
 ],
 "metadata": {
  "kernelspec": {
   "display_name": "Python 3",
   "language": "python",
   "name": "python3"
  },
  "language_info": {
   "codemirror_mode": {
    "name": "ipython",
    "version": 3
   },
   "file_extension": ".py",
   "mimetype": "text/x-python",
   "name": "python",
   "nbconvert_exporter": "python",
   "pygments_lexer": "ipython3",
   "version": "3.8.8"
  }
 },
 "nbformat": 4,
 "nbformat_minor": 5
}
