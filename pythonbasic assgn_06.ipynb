{
 "cells": [
  {
   "cell_type": "markdown",
   "id": "a7f286d7",
   "metadata": {},
   "source": [
    "Q1. What are escape characters, and how do you use them?\n",
    "\n",
    "ans:To insert characters that are illegal in a string, use an escape character. An escape character is a backslash \\ followed by the character you want to insert."
   ]
  },
  {
   "cell_type": "markdown",
   "id": "43f3f140",
   "metadata": {},
   "source": [
    "Q2. What do the escape characters n and t stand for?\n",
    "\n",
    "ans:It is used in representing certain whitespace characters: \"\\t\" is a tab, \"\\n\" is a newline."
   ]
  },
  {
   "cell_type": "markdown",
   "id": "250dd1ee",
   "metadata": {},
   "source": [
    "Q3. What is the way to include backslash characters in a string?\n",
    "\n",
    "ans:Use two backslashes to represent a backslash\n",
    "Use the syntax \"\\\\\" within the string literal to represent a single backslash."
   ]
  },
  {
   "cell_type": "markdown",
   "id": "6140eb3d",
   "metadata": {},
   "source": [
    "Q4. The string \"Howl's Moving Castle\" is a correct value. Why isn't the single quote character in the\n",
    "word Howl's not escaped a problem?\n",
    "\n",
    "ans:The single quote in Howl's is fine because you've used double quotes to mark the beginning and end of the string."
   ]
  },
  {
   "cell_type": "markdown",
   "id": "608fbe3a",
   "metadata": {},
   "source": [
    "Q5. How do you write a string of newlines if you don't want to use the n character?\n",
    "\n",
    "ans:Multiline strings allow you to use newlines in strings without theuse of n character."
   ]
  },
  {
   "cell_type": "code",
   "execution_count": null,
   "id": "af14a955",
   "metadata": {},
   "outputs": [],
   "source": [
    "#6. What are the values of the given expressions?#\n"
   ]
  },
  {
   "cell_type": "markdown",
   "id": "bedf7e5c",
   "metadata": {},
   "source": [
    "'Hello world!'[1]\n",
    "\n",
    "ans:'e'\n",
    "\n",
    "'Hello world!'[0:5]\n",
    "\n",
    "ans:'Hello'\n",
    "\n",
    "'Hello world!'[:5]\n",
    "\n",
    "ans:'Hello'\n",
    "\n",
    "'Hello world!'[3:]\n",
    "\n",
    "ans:'lo world!'"
   ]
  },
  {
   "cell_type": "code",
   "execution_count": null,
   "id": "2394ed9b",
   "metadata": {},
   "outputs": [],
   "source": [
    "#7. What are the values of the following expressions?#"
   ]
  },
  {
   "cell_type": "markdown",
   "id": "1f6bd602",
   "metadata": {},
   "source": [
    "'Hello'.upper()\n",
    "\n",
    "ans:'HELLO'\n",
    "\n",
    "'Hello'.upper().isupper()\n",
    "\n",
    "True\n",
    "\n",
    "'Hello'.upper().lower()\n",
    "\n",
    "'hello'"
   ]
  },
  {
   "cell_type": "code",
   "execution_count": null,
   "id": "b32278c9",
   "metadata": {},
   "outputs": [],
   "source": [
    "#8. What are the values of the following expressions?"
   ]
  },
  {
   "cell_type": "markdown",
   "id": "462adbb6",
   "metadata": {},
   "source": [
    "'Remember, remember, the fifth of November.'.split()\n",
    "\n",
    "ans:['Remember,', 'remember,', 'the', 'fifth', 'of', 'November.']\n",
    "\n",
    "'-'.join('There can be only one.'.split())\n",
    "\n",
    "ans:'There-can-be-only-one."
   ]
  },
  {
   "cell_type": "markdown",
   "id": "873b6a64",
   "metadata": {},
   "source": [
    "Q9. What are the methods for right-justifying, left-justifying, and centering a string?\n",
    "\n",
    "ans:The rjust(), ljust(), and center() string methods, respectively"
   ]
  },
  {
   "cell_type": "markdown",
   "id": "9cfac2ad",
   "metadata": {},
   "source": [
    "Q10. What is the best way to remove whitespace characters from the start or end?\n",
    "\n",
    "ans:The lstrip() and rstrip() methods remove whitespace from the left and right ends of a string, respectively."
   ]
  }
 ],
 "metadata": {
  "kernelspec": {
   "display_name": "Python 3",
   "language": "python",
   "name": "python3"
  },
  "language_info": {
   "codemirror_mode": {
    "name": "ipython",
    "version": 3
   },
   "file_extension": ".py",
   "mimetype": "text/x-python",
   "name": "python",
   "nbconvert_exporter": "python",
   "pygments_lexer": "ipython3",
   "version": "3.8.8"
  }
 },
 "nbformat": 4,
 "nbformat_minor": 5
}
