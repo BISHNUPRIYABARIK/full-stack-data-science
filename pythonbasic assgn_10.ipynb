{
 "cells": [
  {
   "cell_type": "markdown",
   "id": "081f9d3b",
   "metadata": {},
   "source": [
    "Q1. How do you distinguish between shutil.copy() and shutil.copytree()?\n",
    "\n",
    "The shutil.copy() function will copy a single file, while shutil.copytree() will copy an entire folder, along with all its contents."
   ]
  },
  {
   "cell_type": "markdown",
   "id": "ef468c74",
   "metadata": {},
   "source": [
    "Q2. What function is used to rename files??\n",
    "\n",
    "The shutil.move() function is used for renaming files, as well as moving them."
   ]
  },
  {
   "cell_type": "markdown",
   "id": "78e7aa8d",
   "metadata": {},
   "source": [
    "Q3. What is the difference between the delete functions in the send2trash and shutil modules?\n",
    "\n",
    "The send2trash functions will move a file or folder to the recycle bin, while shutil functions will permanently delete files and folders."
   ]
  },
  {
   "cell_type": "markdown",
   "id": "8fbba52f",
   "metadata": {},
   "source": [
    "Q4.ZipFile objects have a close() method just like File objects' close() method. What ZipFile method is equivalent to File objects' open() method?\n",
    "\n",
    "The zipfile.ZipFile() function is equivalent to the open() function; the first argument is the filename, and the second argument is the mode to open the ZIP file in (read, write, or append)."
   ]
  },
  {
   "cell_type": "markdown",
   "id": "4a76520a",
   "metadata": {},
   "source": [
    "Q5. Create a programme that searches a folder tree for files with a certain file extension (such as .pdf\n",
    "or .jpg). Copy these files from whatever location they are in to a new folder."
   ]
  },
  {
   "cell_type": "code",
   "execution_count": null,
   "id": "04451932",
   "metadata": {},
   "outputs": [],
   "source": [
    "import os, shutil\n",
    "\n",
    "def selectiveCopy(source, extensions, destination):\n",
    "    folder = os.path.abspath(source)\n",
    "    destination = os.path.abspath(destination)\n",
    "    print('Looking in', source, 'for files with extensions of', ', '.join(extensions))\n",
    "    for foldername, subfolders, filenames in os.walk(source):\n",
    "        for filename in filenames:\n",
    "            name, extension = os.path.splitext(filename)\n",
    "            if extension in extensions:\n",
    "                fileAbsPath = foldername + os.path.sep + filename\n",
    "                print('Coping', fileAbsPath, 'to', destination)\n",
    "                shutil.copy(fileAbsPath, destination)\n",
    "\n",
    "extensions = ['.mp4', '.pdf','.jpg']\n",
    "source = \"C:\\Users\\ASUS-PC\\Desktop\"\n",
    "destination = \"C:\\Users\\ASUS-PC\\Desktop\\abc\"\n",
    "selectiveCopy(source, extensions, destination)"
   ]
  }
 ],
 "metadata": {
  "kernelspec": {
   "display_name": "Python 3",
   "language": "python",
   "name": "python3"
  },
  "language_info": {
   "codemirror_mode": {
    "name": "ipython",
    "version": 3
   },
   "file_extension": ".py",
   "mimetype": "text/x-python",
   "name": "python",
   "nbconvert_exporter": "python",
   "pygments_lexer": "ipython3",
   "version": "3.8.8"
  }
 },
 "nbformat": 4,
 "nbformat_minor": 5
}
