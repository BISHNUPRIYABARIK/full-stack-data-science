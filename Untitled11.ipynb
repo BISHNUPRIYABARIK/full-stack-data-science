{
 "cells": [
  {
   "cell_type": "markdown",
   "id": "0b020712",
   "metadata": {},
   "source": [
    "Q1. Create an assert statement that throws an AssertionError if the variable spam is a negative integer.\n",
    "\n",
    "ans:assert spam >= 10, 'The spam variable is less than 10.'"
   ]
  },
  {
   "cell_type": "markdown",
   "id": "084bff31",
   "metadata": {},
   "source": [
    "Q2. Write an assert statement that triggers an AssertionError if the variables eggs and bacon contain\n",
    "strings that are the same as each other, even if their cases are different (that is, 'hello' and 'hello' are considered the same, and 'goodbye' and 'GOODbye' are also considered the same).\n",
    "\n",
    "ans:assert eggs.lower() != bacon.lower(), 'The eggs and bacon variables are the same!' or assert eggs.upper() != bacon.upper(), 'The eggs and bacon variables are the same!'"
   ]
  },
  {
   "cell_type": "markdown",
   "id": "5a1a1b7e",
   "metadata": {},
   "source": [
    "Q3. Create an assert statement that throws an AssertionError every time.\n",
    "\n",
    "ans:assert False, 'The assertion always triggers."
   ]
  },
  {
   "cell_type": "markdown",
   "id": "eb1bf2a8",
   "metadata": {},
   "source": [
    "Q4. What are the two lines that must be present in your software in order to call logging.debug()?\n",
    "\n",
    "ans:To be able to call logging.debug(), you must have these two lines at the start ofyour program:\n",
    "\n",
    "import logging\n",
    "\n",
    "logging.basicConfig(level=logging.DEBUG, format=' %(asctime)s -\n",
    "\n",
    "%(levelname)s - %(message)s')"
   ]
  },
  {
   "cell_type": "markdown",
   "id": "a1068f60",
   "metadata": {},
   "source": [
    "Q5. What are the two lines that your program must have in order to have logging.debug() send a\n",
    "logging message to a file named programLog.txt?\n",
    "\n",
    "ans:To be able to send logging message to a file named programLog.txt with logging.debug(), you must have these two lines at the start of your:\n",
    "\n",
    "import logging\n",
    "\n",
    "logging.basicConfig(filename='programLog.txt', level=logging.DEBUG,\n",
    "\n",
    "format=' %(asctime)s - %(levelname)s - %(message)s')"
   ]
  },
  {
   "cell_type": "markdown",
   "id": "08a19375",
   "metadata": {},
   "source": [
    "Q6. What are the five levels of logging?\n",
    "\n",
    "ans:DEBUG, INFO, WARNING, ERROR, and CRITICAL"
   ]
  },
  {
   "cell_type": "markdown",
   "id": "c725b49a",
   "metadata": {},
   "source": [
    "Q7. What line of code would you add to your software to disable all logging messages?\n",
    "\n",
    "ans:logging.disable(logging.CRITICAL)"
   ]
  },
  {
   "cell_type": "raw",
   "id": "762888db",
   "metadata": {},
   "source": [
    "Q8.Why is using logging messages better than using print() to display the same message?\n",
    "\n",
    "ans:You can disable logging messages without removing the logging function calls. You can selectively disable lower-level logging messages. You can create logging messages. Logging messages provides a timestamp."
   ]
  },
  {
   "cell_type": "raw",
   "id": "deea8188",
   "metadata": {},
   "source": [
    "Q9. What are the differences between the Step Over, Step In, and Step Out buttons in the debugger?\n",
    "\n",
    "ans:The Step button will move the debugger into a function call. The step Over button will quickly execute the function call without stepping into it. The step Out button will quickly execute the rest of the code until it steps out of the function it currently is in. Step IN means that the debugger steps into the function. "
   ]
  },
  {
   "cell_type": "raw",
   "id": "1736c66e",
   "metadata": {},
   "source": [
    "Q10.After you click Continue, when will the debugger stop ?\n",
    "\n",
    "ans:After you click continue, the debugger will stop when it has reached the end of the program or a line with a breakpoint.The shortcut key that stops debugging (SHIFT+F5) stops the execution at the current position."
   ]
  },
  {
   "cell_type": "raw",
   "id": "4c053c37",
   "metadata": {},
   "source": [
    "Q11. What is the concept of a breakpoint?\n",
    "\n",
    "ans:A breakpoint is a setting on a line of code that causes the debugger to pause when the program execution reaches the line"
   ]
  }
 ],
 "metadata": {
  "kernelspec": {
   "display_name": "Python 3",
   "language": "python",
   "name": "python3"
  },
  "language_info": {
   "codemirror_mode": {
    "name": "ipython",
    "version": 3
   },
   "file_extension": ".py",
   "mimetype": "text/x-python",
   "name": "python",
   "nbconvert_exporter": "python",
   "pygments_lexer": "ipython3",
   "version": "3.8.8"
  }
 },
 "nbformat": 4,
 "nbformat_minor": 5
}
